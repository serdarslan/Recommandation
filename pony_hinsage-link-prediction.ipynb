{
 "cells": [
  {
   "cell_type": "markdown",
   "metadata": {},
   "source": [
    "# Link prediction with Heterogeneous GraphSAGE (HinSAGE)"
   ]
  },
  {
   "cell_type": "markdown",
   "metadata": {
    "nbsphinx": "hidden",
    "tags": [
     "CloudRunner"
    ]
   },
   "source": [
    "<table><tr><td>Run the latest release of this notebook:</td><td><a href=\"https://mybinder.org/v2/gh/stellargraph/stellargraph/master?urlpath=lab/tree/demos/link-prediction/hinsage-link-prediction.ipynb\" alt=\"Open In Binder\" target=\"_parent\"><img src=\"https://mybinder.org/badge_logo.svg\"/></a></td><td><a href=\"https://colab.research.google.com/github/stellargraph/stellargraph/blob/master/demos/link-prediction/hinsage-link-prediction.ipynb\" alt=\"Open In Colab\" target=\"_parent\"><img src=\"https://colab.research.google.com/assets/colab-badge.svg\"/></a></td></tr></table>"
   ]
  },
  {
   "cell_type": "markdown",
   "metadata": {},
   "source": [
    "In this example, we use our generalisation of the [GraphSAGE](http://snap.stanford.edu/graphsage/) algorithm to heterogeneous graphs (which we call HinSAGE) to build a model that predicts user-movie ratings in the MovieLens dataset (see below). The problem is treated as a supervised link attribute inference problem on a user-movie network with nodes of two types (users and movies, both attributed) and links corresponding to user-movie ratings, with integer `rating` attributes from 1 to 5 (note that if a user hasn't rated a movie, the corresponding user-movie link does not exist in the network).\n",
    "\n",
    "To address this problem, we build a model with the following architecture: a two-layer HinSAGE model that takes labeled `(user, movie)` node pairs corresponding to user-movie ratings, and outputs a pair of node embeddings for the `user` and `movie` nodes of the pair. These embeddings are then fed into a link regression layer, which applies a binary operator to those node embeddings (e.g., concatenating them) to construct the link embedding. Thus obtained link embeddings are passed through the link regression layer to obtain predicted user-movie ratings. The entire model is trained end-to-end by minimizing the loss function of choice (e.g., root mean square error between predicted and true ratings) using stochastic gradient descent (SGD) updates of the model parameters, with minibatches of user-movie training links fed into the model."
   ]
  },
  {
   "cell_type": "code",
   "execution_count": 1,
   "metadata": {
    "nbsphinx": "hidden",
    "tags": [
     "CloudRunner"
    ]
   },
   "outputs": [],
   "source": [
    "# install StellarGraph if running on Google Colab\n",
    "import sys\n",
    "if 'google.colab' in sys.modules:\n",
    "  %pip install -q stellargraph[demos]==1.2.1"
   ]
  },
  {
   "cell_type": "code",
   "execution_count": 2,
   "metadata": {
    "nbsphinx": "hidden",
    "tags": [
     "VersionCheck"
    ]
   },
   "outputs": [],
   "source": [
    "# verify that we're using the correct version of StellarGraph for this notebook\n",
    "import stellargraph as sg\n",
    "\n",
    "try:\n",
    "    sg.utils.validate_notebook_version(\"1.2.1\")\n",
    "except AttributeError:\n",
    "    raise ValueError(\n",
    "        f\"This notebook requires StellarGraph version 1.2.1, but a different version {sg.__version__} is installed.  Please see <https://github.com/stellargraph/stellargraph/issues/1172>.\"\n",
    "    ) from None"
   ]
  },
  {
   "cell_type": "code",
   "execution_count": 1,
   "metadata": {},
   "outputs": [],
   "source": [
    "import json\n",
    "import pandas as pd\n",
    "import numpy as np\n",
    "from sklearn import preprocessing, feature_extraction, model_selection\n",
    "from sklearn.metrics import mean_absolute_error, mean_squared_error\n",
    "\n",
    "import stellargraph as sg\n",
    "from stellargraph.mapper import HinSAGELinkGenerator\n",
    "from stellargraph.layer import HinSAGE, link_regression\n",
    "from tensorflow.keras import Model, optimizers, losses, metrics\n",
    "\n",
    "import multiprocessing\n",
    "from stellargraph import datasets\n",
    "from IPython.display import display, HTML\n",
    "import matplotlib.pyplot as plt\n",
    "%matplotlib inline"
   ]
  },
  {
   "cell_type": "markdown",
   "metadata": {},
   "source": [
    "Specify the minibatch size (number of user-movie links per minibatch) and the number of epochs for training the ML model:"
   ]
  },
  {
   "cell_type": "code",
   "execution_count": 4,
   "metadata": {
    "tags": [
     "parameters"
    ]
   },
   "outputs": [],
   "source": [
    "batch_size = 200\n",
    "epochs = 20\n",
    "# Use 70% of edges for training, the rest for testing:\n",
    "train_size = 0.7\n",
    "test_size = 0.3\n"
   ]
  },
  {
   "cell_type": "markdown",
   "metadata": {},
   "source": [
    "## Load the dataset"
   ]
  },
  {
   "cell_type": "markdown",
   "metadata": {
    "tags": [
     "DataLoadingLinks"
    ]
   },
   "source": [
    "(See [the \"Loading from Pandas\" demo](../basics/loading-pandas.ipynb) for details on how data can be loaded.)"
   ]
  },
  {
   "cell_type": "code",
   "execution_count": 5,
   "metadata": {
    "tags": [
     "DataLoading"
    ]
   },
   "outputs": [
    {
     "data": {
      "text/html": [
       "The MovieLens 100K dataset contains 100,000 ratings from 943 users on 1682 movies."
      ],
      "text/plain": [
       "<IPython.core.display.HTML object>"
      ]
     },
     "metadata": {},
     "output_type": "display_data"
    }
   ],
   "source": [
    "dataset = datasets.MovieLens()\n",
    "display(HTML(dataset.description))\n",
    "G, edges_with_ratings = dataset.load()"
   ]
  },
  {
   "cell_type": "code",
   "execution_count": 6,
   "metadata": {},
   "outputs": [
    {
     "data": {
      "text/plain": [
       "<stellargraph.datasets.datasets.MovieLens at 0x20f39499d00>"
      ]
     },
     "execution_count": 6,
     "metadata": {},
     "output_type": "execute_result"
    }
   ],
   "source": [
    "dataset"
   ]
  },
  {
   "cell_type": "code",
   "execution_count": 7,
   "metadata": {},
   "outputs": [
    {
     "name": "stdout",
     "output_type": "stream",
     "text": [
      "StellarGraph: Undirected multigraph\n",
      " Nodes: 2625, Edges: 100000\n",
      "\n",
      " Node types:\n",
      "  movie: [1682]\n",
      "    Features: float32 vector, length 19\n",
      "    Edge types: movie-rating->user\n",
      "  user: [943]\n",
      "    Features: float32 vector, length 24\n",
      "    Edge types: user-rating->movie\n",
      "\n",
      " Edge types:\n",
      "    movie-rating->user: [100000]\n",
      "        Weights: all 1 (default)\n",
      "        Features: none\n"
     ]
    }
   ],
   "source": [
    "print(G.info())"
   ]
  },
  {
   "cell_type": "code",
   "execution_count": null,
   "metadata": {},
   "outputs": [],
   "source": [
    "def load_retail_dataset():\n",
    "    \"\"\"\n",
    "    Load this dataset into an undirected heterogeneous graph, downloading it if required.\n",
    "\n",
    "    The graph has two types of nodes (``user`` and ``movie``) and one type of edge (``rating``).\n",
    "\n",
    "    The dataset includes some node features on both users and movies: on users, they consist of\n",
    "    categorical features (``gender`` and ``job``) which are one-hot encoded into binary\n",
    "    features, and an ``age`` feature that is scaled to have mean = 0 and standard deviation = 1.\n",
    "\n",
    "    Returns:\n",
    "        A tuple where the first element is a :class:`.StellarGraph` instance containing the graph\n",
    "        data and features, and the second element is a pandas DataFrame of edges, with columns\n",
    "        ``user_id``, ``movie_id`` and ``rating`` (a label from 1 to 5).\n",
    "    \"\"\"\n",
    "    #self.download()\n",
    "\n",
    "    ratings, users, movies, *_ = [\n",
    "        self._resolve_path(path) for path in self.expected_files\n",
    "    ]\n",
    "\n",
    "    edges = pd.read_csv(\n",
    "        ratings,\n",
    "        sep=\"\\t\",\n",
    "        header=None,\n",
    "        names=[\"user_id\", \"movie_id\", \"rating\", \"timestamp\"],\n",
    "        usecols=[\"user_id\", \"movie_id\", \"rating\"],\n",
    "    )\n",
    "\n",
    "    users = pd.read_csv(\n",
    "        users,\n",
    "        sep=\"|\",\n",
    "        header=None,\n",
    "        names=[\"user_id\", \"age\", \"gender\", \"job\", \"zipcode\"],\n",
    "        usecols=[\"user_id\", \"age\", \"gender\", \"job\"],\n",
    "    )\n",
    "\n",
    "    movie_columns = [\n",
    "        \"movie_id\",\n",
    "        \"title\",\n",
    "        \"release_date\",\n",
    "        \"video_release_date\",\n",
    "        \"imdb_url\",\n",
    "        # features from here:\n",
    "        \"unknown\",\n",
    "        \"action\",\n",
    "        \"adventure\",\n",
    "        \"animation\",\n",
    "        \"childrens\",\n",
    "        \"comedy\",\n",
    "        \"crime\",\n",
    "        \"documentary\",\n",
    "        \"drama\",\n",
    "        \"fantasy\",\n",
    "        \"film_noir\",\n",
    "        \"horror\",\n",
    "        \"musical\",\n",
    "        \"mystery\",\n",
    "        \"romance\",\n",
    "        \"sci_fi\",\n",
    "        \"thriller\",\n",
    "        \"war\",\n",
    "        \"western\",\n",
    "    ]\n",
    "    movies = pd.read_csv(\n",
    "        movies,\n",
    "        sep=\"|\",\n",
    "        header=None,\n",
    "        names=movie_columns,\n",
    "        usecols=[\"movie_id\"] + movie_columns[5:],\n",
    "    )\n",
    "\n",
    "    # manage the IDs\n",
    "    def u(users):\n",
    "        return \"u_\" + users.astype(str)\n",
    "\n",
    "    def m(movies):\n",
    "        return \"m_\" + movies.astype(str)\n",
    "\n",
    "    users_ids = u(users[\"user_id\"])\n",
    "\n",
    "    movies[\"movie_id\"] = m(movies[\"movie_id\"])\n",
    "    movies.set_index(\"movie_id\", inplace=True)\n",
    "\n",
    "    edges[\"user_id\"] = u(edges[\"user_id\"])\n",
    "    edges[\"movie_id\"] = m(edges[\"movie_id\"])\n",
    "\n",
    "    # convert categorical user features to numeric, and normalize age\n",
    "    feature_encoding = preprocessing.OneHotEncoder(sparse=False)\n",
    "    onehot = feature_encoding.fit_transform(users[[\"gender\", \"job\"]])\n",
    "    scaled_age = preprocessing.scale(users[\"age\"])\n",
    "    encoded_users = pd.DataFrame(onehot, index=users_ids).assign(\n",
    "        scaled_age=scaled_age\n",
    "    )\n",
    "\n",
    "    g = StellarGraph(\n",
    "        {\"user\": encoded_users, \"movie\": movies},\n",
    "        {\"rating\": edges[[\"user_id\", \"movie_id\"]]},\n",
    "        source_column=\"user_id\",\n",
    "        target_column=\"movie_id\",\n",
    "    )\n",
    "    return g, edges"
   ]
  },
  {
   "cell_type": "markdown",
   "metadata": {},
   "source": [
    "Split the edges into train and test sets for model training/evaluation:"
   ]
  },
  {
   "cell_type": "code",
   "execution_count": 8,
   "metadata": {},
   "outputs": [],
   "source": [
    "edges_train, edges_test = model_selection.train_test_split(\n",
    "    edges_with_ratings, train_size=train_size, test_size=test_size\n",
    ")\n",
    "\n",
    "edgelist_train = list(edges_train[[\"user_id\", \"movie_id\"]].itertuples(index=False))\n",
    "edgelist_test = list(edges_test[[\"user_id\", \"movie_id\"]].itertuples(index=False))\n",
    "\n",
    "labels_train = edges_train[\"rating\"]\n",
    "labels_test = edges_test[\"rating\"]"
   ]
  },
  {
   "cell_type": "markdown",
   "metadata": {},
   "source": [
    "Our machine learning task of learning user-movie ratings can be framed as a supervised Link Attribute Inference: given a graph of user-movie ratings, we train a model for rating prediction using the ratings edges_train, and evaluate it using the test ratings edges_test. The model also requires the user-movie graph structure, to do the neighbour sampling required by the HinSAGE algorithm."
   ]
  },
  {
   "cell_type": "markdown",
   "metadata": {},
   "source": [
    "We create the link mappers for sampling and streaming training and testing data to the model. The link mappers essentially \"map\" user-movie links to the input of HinSAGE: they take minibatches of user-movie links, sample 2-hop subgraphs of G with `(user, movie)` head nodes extracted from those user-movie links, and feed them, together with the corresponding user-movie ratings, to the input layer of the HinSAGE model, for SGD updates of the model parameters."
   ]
  },
  {
   "cell_type": "markdown",
   "metadata": {},
   "source": [
    "Specify the sizes of 1- and 2-hop neighbour samples for HinSAGE:\n",
    "\n",
    "Note that the length of `num_samples` list defines the number of layers/iterations in the HinSAGE model."
   ]
  },
  {
   "cell_type": "code",
   "execution_count": 9,
   "metadata": {},
   "outputs": [],
   "source": [
    "num_samples = [8, 4]"
   ]
  },
  {
   "cell_type": "markdown",
   "metadata": {},
   "source": [
    "Create the generators to feed data from the graph to the Keras model. We need to specify the nodes types for the user-movie pairs that we will feed to the model. The `shuffle=True` argument is given to the `flow` method to improve training."
   ]
  },
  {
   "cell_type": "code",
   "execution_count": 10,
   "metadata": {},
   "outputs": [],
   "source": [
    "generator = HinSAGELinkGenerator(\n",
    "    G, batch_size, num_samples, head_node_types=[\"user\", \"movie\"]\n",
    ")\n",
    "train_gen = generator.flow(edgelist_train, labels_train, shuffle=True)\n",
    "test_gen = generator.flow(edgelist_test, labels_test)"
   ]
  },
  {
   "cell_type": "markdown",
   "metadata": {},
   "source": [
    "Build the model by stacking a two-layer HinSAGE model and a link regression layer on top.\n",
    "\n",
    "First, we define the HinSAGE part of the model, with hidden layer sizes of 32 for both HinSAGE layers, a bias term, and no dropout. (Dropout can be switched on by specifying a positive `dropout` rate, `0 < dropout < 1`)\n",
    "\n",
    "Note that the length of `layer_sizes` list must be equal to the length of `num_samples`, as `len(num_samples)` defines the number of hops (layers) in the HinSAGE model."
   ]
  },
  {
   "cell_type": "code",
   "execution_count": 11,
   "metadata": {},
   "outputs": [
    {
     "data": {
      "text/plain": [
       "[('user', [2]),\n",
       " ('movie', [3]),\n",
       " ('movie', [4]),\n",
       " ('user', [5]),\n",
       " ('user', []),\n",
       " ('movie', [])]"
      ]
     },
     "execution_count": 11,
     "metadata": {},
     "output_type": "execute_result"
    }
   ],
   "source": [
    "generator.schema.type_adjacency_list(generator.head_node_types, len(num_samples))"
   ]
  },
  {
   "cell_type": "code",
   "execution_count": 12,
   "metadata": {},
   "outputs": [
    {
     "data": {
      "text/plain": [
       "{'movie': [EdgeType(n1='movie', rel='rating', n2='user')],\n",
       " 'user': [EdgeType(n1='user', rel='rating', n2='movie')]}"
      ]
     },
     "execution_count": 12,
     "metadata": {},
     "output_type": "execute_result"
    }
   ],
   "source": [
    "generator.schema.schema"
   ]
  },
  {
   "cell_type": "code",
   "execution_count": 13,
   "metadata": {},
   "outputs": [],
   "source": [
    "hinsage_layer_sizes = [32, 32]\n",
    "assert len(hinsage_layer_sizes) == len(num_samples)\n",
    "\n",
    "hinsage = HinSAGE(\n",
    "    layer_sizes=hinsage_layer_sizes, generator=generator, bias=True, dropout=0.0\n",
    ")"
   ]
  },
  {
   "cell_type": "code",
   "execution_count": 14,
   "metadata": {},
   "outputs": [],
   "source": [
    "# Expose input and output sockets of hinsage:\n",
    "x_inp, x_out = hinsage.in_out_tensors()"
   ]
  },
  {
   "cell_type": "markdown",
   "metadata": {},
   "source": [
    "Add the final estimator layer for predicting the ratings. The edge_embedding_method argument specifies the way in which node representations (node embeddings) are combined into link representations (recall that links represent user-movie ratings, and are thus pairs of (user, movie) nodes). In this example, we will use `concat`, i.e., node embeddings are concatenated to get link embeddings."
   ]
  },
  {
   "cell_type": "code",
   "execution_count": 15,
   "metadata": {},
   "outputs": [
    {
     "name": "stdout",
     "output_type": "stream",
     "text": [
      "link_regression: using 'concat' method to combine node embeddings into edge embeddings\n"
     ]
    }
   ],
   "source": [
    "# Final estimator layer\n",
    "score_prediction = link_regression(edge_embedding_method=\"concat\")(x_out)"
   ]
  },
  {
   "cell_type": "markdown",
   "metadata": {},
   "source": [
    "Create the Keras model, and compile it by specifying the optimizer, loss function to optimise, and metrics for diagnostics:"
   ]
  },
  {
   "cell_type": "code",
   "execution_count": 16,
   "metadata": {},
   "outputs": [],
   "source": [
    "import tensorflow.keras.backend as K\n",
    "\n",
    "\n",
    "def root_mean_square_error(s_true, s_pred):\n",
    "    return K.sqrt(K.mean(K.pow(s_true - s_pred, 2)))\n",
    "\n",
    "\n",
    "model = Model(inputs=x_inp, outputs=score_prediction)\n",
    "model.compile(\n",
    "    optimizer=optimizers.Adam(lr=1e-2),\n",
    "    loss=losses.mean_squared_error,\n",
    "    metrics=[root_mean_square_error, metrics.mae],\n",
    ")"
   ]
  },
  {
   "cell_type": "markdown",
   "metadata": {},
   "source": [
    "Summary of the model:"
   ]
  },
  {
   "cell_type": "code",
   "execution_count": 17,
   "metadata": {},
   "outputs": [
    {
     "name": "stdout",
     "output_type": "stream",
     "text": [
      "Model: \"functional_1\"\n",
      "__________________________________________________________________________________________________\n",
      "Layer (type)                    Output Shape         Param #     Connected to                     \n",
      "==================================================================================================\n",
      "input_3 (InputLayer)            [(None, 8, 19)]      0                                            \n",
      "__________________________________________________________________________________________________\n",
      "input_5 (InputLayer)            [(None, 32, 24)]     0                                            \n",
      "__________________________________________________________________________________________________\n",
      "input_6 (InputLayer)            [(None, 32, 19)]     0                                            \n",
      "__________________________________________________________________________________________________\n",
      "input_1 (InputLayer)            [(None, 1, 24)]      0                                            \n",
      "__________________________________________________________________________________________________\n",
      "reshape (Reshape)               (None, 1, 8, 19)     0           input_3[0][0]                    \n",
      "__________________________________________________________________________________________________\n",
      "reshape_2 (Reshape)             (None, 8, 4, 24)     0           input_5[0][0]                    \n",
      "__________________________________________________________________________________________________\n",
      "input_4 (InputLayer)            [(None, 8, 24)]      0                                            \n",
      "__________________________________________________________________________________________________\n",
      "reshape_3 (Reshape)             (None, 8, 4, 19)     0           input_6[0][0]                    \n",
      "__________________________________________________________________________________________________\n",
      "dropout_1 (Dropout)             (None, 1, 24)        0           input_1[0][0]                    \n",
      "__________________________________________________________________________________________________\n",
      "dropout (Dropout)               (None, 1, 8, 19)     0           reshape[0][0]                    \n",
      "__________________________________________________________________________________________________\n",
      "dropout_5 (Dropout)             (None, 8, 19)        0           input_3[0][0]                    \n",
      "__________________________________________________________________________________________________\n",
      "dropout_4 (Dropout)             (None, 8, 4, 24)     0           reshape_2[0][0]                  \n",
      "__________________________________________________________________________________________________\n",
      "input_2 (InputLayer)            [(None, 1, 19)]      0                                            \n",
      "__________________________________________________________________________________________________\n",
      "reshape_1 (Reshape)             (None, 1, 8, 24)     0           input_4[0][0]                    \n",
      "__________________________________________________________________________________________________\n",
      "dropout_7 (Dropout)             (None, 8, 24)        0           input_4[0][0]                    \n",
      "__________________________________________________________________________________________________\n",
      "dropout_6 (Dropout)             (None, 8, 4, 19)     0           reshape_3[0][0]                  \n",
      "__________________________________________________________________________________________________\n",
      "mean_hin_aggregator (MeanHinAgg multiple             720         dropout_1[0][0]                  \n",
      "                                                                 dropout[0][0]                    \n",
      "                                                                 dropout_7[0][0]                  \n",
      "                                                                 dropout_6[0][0]                  \n",
      "__________________________________________________________________________________________________\n",
      "mean_hin_aggregator_1 (MeanHinA multiple             720         dropout_3[0][0]                  \n",
      "                                                                 dropout_2[0][0]                  \n",
      "                                                                 dropout_5[0][0]                  \n",
      "                                                                 dropout_4[0][0]                  \n",
      "__________________________________________________________________________________________________\n",
      "dropout_3 (Dropout)             (None, 1, 19)        0           input_2[0][0]                    \n",
      "__________________________________________________________________________________________________\n",
      "dropout_2 (Dropout)             (None, 1, 8, 24)     0           reshape_1[0][0]                  \n",
      "__________________________________________________________________________________________________\n",
      "reshape_4 (Reshape)             (None, 1, 8, 32)     0           mean_hin_aggregator_1[1][0]      \n",
      "__________________________________________________________________________________________________\n",
      "reshape_5 (Reshape)             (None, 1, 8, 32)     0           mean_hin_aggregator[1][0]        \n",
      "__________________________________________________________________________________________________\n",
      "dropout_9 (Dropout)             (None, 1, 32)        0           mean_hin_aggregator[0][0]        \n",
      "__________________________________________________________________________________________________\n",
      "dropout_8 (Dropout)             (None, 1, 8, 32)     0           reshape_4[0][0]                  \n",
      "__________________________________________________________________________________________________\n",
      "dropout_11 (Dropout)            (None, 1, 32)        0           mean_hin_aggregator_1[0][0]      \n",
      "__________________________________________________________________________________________________\n",
      "dropout_10 (Dropout)            (None, 1, 8, 32)     0           reshape_5[0][0]                  \n",
      "__________________________________________________________________________________________________\n",
      "mean_hin_aggregator_2 (MeanHinA (None, 1, 32)        1056        dropout_9[0][0]                  \n",
      "                                                                 dropout_8[0][0]                  \n",
      "__________________________________________________________________________________________________\n",
      "mean_hin_aggregator_3 (MeanHinA (None, 1, 32)        1056        dropout_11[0][0]                 \n",
      "                                                                 dropout_10[0][0]                 \n",
      "__________________________________________________________________________________________________\n",
      "reshape_6 (Reshape)             (None, 32)           0           mean_hin_aggregator_2[0][0]      \n",
      "__________________________________________________________________________________________________\n",
      "reshape_7 (Reshape)             (None, 32)           0           mean_hin_aggregator_3[0][0]      \n",
      "__________________________________________________________________________________________________\n",
      "lambda (Lambda)                 (None, 32)           0           reshape_6[0][0]                  \n",
      "                                                                 reshape_7[0][0]                  \n",
      "__________________________________________________________________________________________________\n",
      "link_embedding (LinkEmbedding)  (None, 64)           0           lambda[0][0]                     \n",
      "                                                                 lambda[1][0]                     \n",
      "__________________________________________________________________________________________________\n",
      "dense (Dense)                   (None, 1)            65          link_embedding[0][0]             \n",
      "__________________________________________________________________________________________________\n",
      "reshape_8 (Reshape)             (None, 1)            0           dense[0][0]                      \n",
      "==================================================================================================\n",
      "Total params: 3,617\n",
      "Trainable params: 3,617\n",
      "Non-trainable params: 0\n",
      "__________________________________________________________________________________________________\n"
     ]
    }
   ],
   "source": [
    "model.summary()"
   ]
  },
  {
   "cell_type": "code",
   "execution_count": 18,
   "metadata": {},
   "outputs": [],
   "source": [
    "# Specify the number of workers to use for model training\n",
    "num_workers = 4"
   ]
  },
  {
   "cell_type": "markdown",
   "metadata": {},
   "source": [
    "Evaluate the fresh (untrained) model on the test set (for reference):"
   ]
  },
  {
   "cell_type": "code",
   "execution_count": 19,
   "metadata": {},
   "outputs": [
    {
     "name": "stdout",
     "output_type": "stream",
     "text": [
      "150/150 [==============================] - 7s 50ms/step - loss: 15.3940 - root_mean_square_error: 3.9229 - mean_absolute_error: 3.7572: 4s - loss: 15.3915 - root\n",
      "Untrained model's Test Evaluation:\n",
      "\tloss: 15.3940\n",
      "\troot_mean_square_error: 3.9229\n",
      "\tmean_absolute_error: 3.7572\n"
     ]
    }
   ],
   "source": [
    "test_metrics = model.evaluate(\n",
    "    test_gen, verbose=1, use_multiprocessing=False, workers=num_workers\n",
    ")\n",
    "\n",
    "print(\"Untrained model's Test Evaluation:\")\n",
    "for name, val in zip(model.metrics_names, test_metrics):\n",
    "    print(\"\\t{}: {:0.4f}\".format(name, val))"
   ]
  },
  {
   "cell_type": "markdown",
   "metadata": {},
   "source": [
    "Train the model by feeding the data from the graph in minibatches, using mapper_train, and get validation metrics after each epoch:"
   ]
  },
  {
   "cell_type": "code",
   "execution_count": 20,
   "metadata": {},
   "outputs": [
    {
     "name": "stdout",
     "output_type": "stream",
     "text": [
      "Epoch 1/20\n",
      "350/350 [==============================] - 26s 75ms/step - loss: 1.3612 - root_mean_square_error: 1.1378 - mean_absolute_error: 0.9426 - val_loss: 1.1481 - val_root_mean_square_error: 1.0705 - val_mean_absolute_error: 0.8721\n",
      "Epoch 2/20\n",
      "350/350 [==============================] - 26s 75ms/step - loss: 1.1494 - root_mean_square_error: 1.0709 - mean_absolute_error: 0.8700 - val_loss: 1.1270 - val_root_mean_square_error: 1.0606 - val_mean_absolute_error: 0.8620\n",
      "Epoch 3/20\n",
      "350/350 [==============================] - 26s 76ms/step - loss: 1.1358 - root_mean_square_error: 1.0646 - mean_absolute_error: 0.8637 - val_loss: 1.1225 - val_root_mean_square_error: 1.0585 - val_mean_absolute_error: 0.8623\n",
      "Epoch 4/20\n",
      "350/350 [==============================] - 27s 77ms/step - loss: 1.1271 - root_mean_square_error: 1.0603 - mean_absolute_error: 0.8587 - val_loss: 1.1096 - val_root_mean_square_error: 1.0525 - val_mean_absolute_error: 0.8573\n",
      "Epoch 5/20\n",
      "350/350 [==============================] - 27s 77ms/step - loss: 1.1221 - root_mean_square_error: 1.0582 - mean_absolute_error: 0.8565 - val_loss: 1.1025 - val_root_mean_square_error: 1.0490 - val_mean_absolute_error: 0.8424\n",
      "Epoch 6/20\n",
      "350/350 [==============================] - 27s 77ms/step - loss: 1.1150 - root_mean_square_error: 1.0549 - mean_absolute_error: 0.8529 - val_loss: 1.1077 - val_root_mean_square_error: 1.0513 - val_mean_absolute_error: 0.8417\n",
      "Epoch 7/20\n",
      "350/350 [==============================] - 27s 77ms/step - loss: 1.1082 - root_mean_square_error: 1.0516 - mean_absolute_error: 0.8497 - val_loss: 1.0962 - val_root_mean_square_error: 1.0460 - val_mean_absolute_error: 0.8455\n",
      "Epoch 8/20\n",
      "350/350 [==============================] - 26s 74ms/step - loss: 1.1024 - root_mean_square_error: 1.0488 - mean_absolute_error: 0.8481 - val_loss: 1.1062 - val_root_mean_square_error: 1.0506 - val_mean_absolute_error: 0.8409\n",
      "Epoch 9/20\n",
      "350/350 [==============================] - 27s 76ms/step - loss: 1.0992 - root_mean_square_error: 1.0471 - mean_absolute_error: 0.8465 - val_loss: 1.1007 - val_root_mean_square_error: 1.0482 - val_mean_absolute_error: 0.8533\n",
      "Epoch 10/20\n",
      "350/350 [==============================] - 27s 76ms/step - loss: 1.0992 - root_mean_square_error: 1.0473 - mean_absolute_error: 0.8451 - val_loss: 1.0855 - val_root_mean_square_error: 1.0407 - val_mean_absolute_error: 0.8371\n",
      "Epoch 11/20\n",
      "350/350 [==============================] - 27s 77ms/step - loss: 1.0952 - root_mean_square_error: 1.0452 - mean_absolute_error: 0.8441 - val_loss: 1.0879 - val_root_mean_square_error: 1.0419 - val_mean_absolute_error: 0.8442\n",
      "Epoch 12/20\n",
      "350/350 [==============================] - 26s 76ms/step - loss: 1.0906 - root_mean_square_error: 1.0433 - mean_absolute_error: 0.8428 - val_loss: 1.0894 - val_root_mean_square_error: 1.0427 - val_mean_absolute_error: 0.8498\n",
      "Epoch 13/20\n",
      "350/350 [==============================] - 27s 76ms/step - loss: 1.0918 - root_mean_square_error: 1.0438 - mean_absolute_error: 0.8429 - val_loss: 1.0832 - val_root_mean_square_error: 1.0397 - val_mean_absolute_error: 0.8382\n",
      "Epoch 14/20\n",
      "350/350 [==============================] - 26s 75ms/step - loss: 1.0915 - root_mean_square_error: 1.0436 - mean_absolute_error: 0.8430 - val_loss: 1.0951 - val_root_mean_square_error: 1.0454 - val_mean_absolute_error: 0.8508\n",
      "Epoch 15/20\n",
      "350/350 [==============================] - 26s 75ms/step - loss: 1.0878 - root_mean_square_error: 1.0417 - mean_absolute_error: 0.8413 - val_loss: 1.0823 - val_root_mean_square_error: 1.0391 - val_mean_absolute_error: 0.8319\n",
      "Epoch 16/20\n",
      "350/350 [==============================] - 27s 77ms/step - loss: 1.0880 - root_mean_square_error: 1.0419 - mean_absolute_error: 0.8408 - val_loss: 1.0830 - val_root_mean_square_error: 1.0396 - val_mean_absolute_error: 0.8407\n",
      "Epoch 17/20\n",
      "350/350 [==============================] - 27s 76ms/step - loss: 1.0857 - root_mean_square_error: 1.0408 - mean_absolute_error: 0.8404 - val_loss: 1.0786 - val_root_mean_square_error: 1.0375 - val_mean_absolute_error: 0.8404\n",
      "Epoch 18/20\n",
      "350/350 [==============================] - 26s 75ms/step - loss: 1.0843 - root_mean_square_error: 1.0402 - mean_absolute_error: 0.8396 - val_loss: 1.0816 - val_root_mean_square_error: 1.0389 - val_mean_absolute_error: 0.8353\n",
      "Epoch 19/20\n",
      "350/350 [==============================] - 27s 76ms/step - loss: 1.0826 - root_mean_square_error: 1.0392 - mean_absolute_error: 0.8393 - val_loss: 1.0782 - val_root_mean_square_error: 1.0372 - val_mean_absolute_error: 0.8354\n",
      "Epoch 20/20\n",
      "350/350 [==============================] - 27s 78ms/step - loss: 1.0843 - root_mean_square_error: 1.0402 - mean_absolute_error: 0.8400 - val_loss: 1.0780 - val_root_mean_square_error: 1.0371 - val_mean_absolute_error: 0.8363\n"
     ]
    }
   ],
   "source": [
    "history = model.fit(\n",
    "    train_gen,\n",
    "    validation_data=test_gen,\n",
    "    epochs=epochs,\n",
    "    verbose=1,\n",
    "    shuffle=False,\n",
    "    use_multiprocessing=False,\n",
    "    workers=num_workers,\n",
    ")"
   ]
  },
  {
   "cell_type": "markdown",
   "metadata": {},
   "source": [
    "Plot the training history:"
   ]
  },
  {
   "cell_type": "code",
   "execution_count": 21,
   "metadata": {},
   "outputs": [
    {
     "data": {
      "image/png": "[encoded data removed]",
      "text/plain": [
       "<Figure size 504x864 with 3 Axes>"
      ]
     },
     "metadata": {
      "needs_background": "light"
     },
     "output_type": "display_data"
    }
   ],
   "source": [
    "sg.utils.plot_history(history)"
   ]
  },
  {
   "cell_type": "markdown",
   "metadata": {},
   "source": [
    "Evaluate the trained model on test user-movie rankings:"
   ]
  },
  {
   "cell_type": "code",
   "execution_count": 22,
   "metadata": {},
   "outputs": [
    {
     "name": "stdout",
     "output_type": "stream",
     "text": [
      "150/150 [==============================] - 8s 50ms/step - loss: 1.0744 - root_mean_square_error: 1.0354 - mean_absolute_error: 0.8335 2s - loss: 1.0703 - root\n",
      "Test Evaluation:\n",
      "\tloss: 1.0744\n",
      "\troot_mean_square_error: 1.0354\n",
      "\tmean_absolute_error: 0.8335\n"
     ]
    }
   ],
   "source": [
    "test_metrics = model.evaluate(\n",
    "    test_gen, use_multiprocessing=False, workers=num_workers, verbose=1\n",
    ")\n",
    "\n",
    "print(\"Test Evaluation:\")\n",
    "for name, val in zip(model.metrics_names, test_metrics):\n",
    "    print(\"\\t{}: {:0.4f}\".format(name, val))"
   ]
  },
  {
   "cell_type": "markdown",
   "metadata": {},
   "source": [
    "Compare the predicted test rankings with \"mean baseline\" rankings, to see how much better our model does compared to this (very simplistic) baseline:"
   ]
  },
  {
   "cell_type": "code",
   "execution_count": 23,
   "metadata": {},
   "outputs": [
    {
     "name": "stdout",
     "output_type": "stream",
     "text": [
      "Mean Baseline Test set metrics:\n",
      "\troot_mean_square_error =  1.1215560302048644\n",
      "\tmean_absolute_error =  0.9402205066045125\n",
      "\n",
      "Model Test set metrics:\n",
      "\troot_mean_square_error =  1.038016314944795\n",
      "\tmean_absolute_error =  0.8347031944692135\n"
     ]
    }
   ],
   "source": [
    "y_true = labels_test\n",
    "# Predict the rankings using the model:\n",
    "y_pred = model.predict(test_gen)\n",
    "# Mean baseline rankings = mean movie ranking:\n",
    "y_pred_baseline = np.full_like(y_pred, np.mean(y_true))\n",
    "\n",
    "rmse = np.sqrt(mean_squared_error(y_true, y_pred_baseline))\n",
    "mae = mean_absolute_error(y_true, y_pred_baseline)\n",
    "print(\"Mean Baseline Test set metrics:\")\n",
    "print(\"\\troot_mean_square_error = \", rmse)\n",
    "print(\"\\tmean_absolute_error = \", mae)\n",
    "\n",
    "rmse = np.sqrt(mean_squared_error(y_true, y_pred))\n",
    "mae = mean_absolute_error(y_true, y_pred)\n",
    "print(\"\\nModel Test set metrics:\")\n",
    "print(\"\\troot_mean_square_error = \", rmse)\n",
    "print(\"\\tmean_absolute_error = \", mae)"
   ]
  },
  {
   "cell_type": "markdown",
   "metadata": {},
   "source": [
    "Compare the distributions of predicted and true rankings for the test set:"
   ]
  },
  {
   "cell_type": "code",
   "execution_count": 24,
   "metadata": {},
   "outputs": [
    {
     "data": {
      "image/png": "[encoded data removed]",
      "text/plain": [
       "<Figure size 432x288 with 1 Axes>"
      ]
     },
     "metadata": {
      "needs_background": "light"
     },
     "output_type": "display_data"
    }
   ],
   "source": [
    "h_true = plt.hist(y_true, bins=30, facecolor=\"green\", alpha=0.5)\n",
    "h_pred = plt.hist(y_pred, bins=30, facecolor=\"blue\", alpha=0.5)\n",
    "plt.xlabel(\"ranking\")\n",
    "plt.ylabel(\"count\")\n",
    "plt.legend((\"True\", \"Predicted\"))\n",
    "plt.show()"
   ]
  },
  {
   "cell_type": "markdown",
   "metadata": {},
   "source": [
    "We see that our model beats the \"mean baseline\" by a significant margin. To further improve the model, you can try increasing the number of training epochs, change the dropout rate, change the sample sizes for subgraph sampling `num_samples`, hidden layer sizes `layer_sizes` of the HinSAGE part of the model, or try increasing the number of HinSAGE layers.\n",
    "\n",
    "However, note that the distribution of predicted scores is still very narrow, and rarely gives 1, 2 or 5 as a score."
   ]
  },
  {
   "cell_type": "markdown",
   "metadata": {},
   "source": [
    "This model uses a bipartite user-movie graph to learn to predict movie ratings. It can be further enhanced by using additional relations, e.g., friendships between users, if they become available. And the best part is: the underlying algorithm of the model does not need to change at all to take these extra relations into account - all that changes is the graph that it learns from!"
   ]
  },
  {
   "cell_type": "markdown",
   "metadata": {
    "nbsphinx": "hidden",
    "tags": [
     "CloudRunner"
    ]
   },
   "source": [
    "<table><tr><td>Run the latest release of this notebook:</td><td><a href=\"https://mybinder.org/v2/gh/stellargraph/stellargraph/master?urlpath=lab/tree/demos/link-prediction/hinsage-link-prediction.ipynb\" alt=\"Open In Binder\" target=\"_parent\"><img src=\"https://mybinder.org/badge_logo.svg\"/></a></td><td><a href=\"https://colab.research.google.com/github/stellargraph/stellargraph/blob/master/demos/link-prediction/hinsage-link-prediction.ipynb\" alt=\"Open In Colab\" target=\"_parent\"><img src=\"https://colab.research.google.com/assets/colab-badge.svg\"/></a></td></tr></table>"
   ]
  }
 ],
 "metadata": {
  "kernelspec": {
   "display_name": "Python 3",
   "language": "python",
   "name": "python3"
  },
  "language_info": {
   "codemirror_mode": {
    "name": "ipython",
    "version": 3
   },
   "file_extension": ".py",
   "mimetype": "text/x-python",
   "name": "python",
   "nbconvert_exporter": "python",
   "pygments_lexer": "ipython3",
   "version": "3.8.3"
  }
 },
 "nbformat": 4,
 "nbformat_minor": 4
}
